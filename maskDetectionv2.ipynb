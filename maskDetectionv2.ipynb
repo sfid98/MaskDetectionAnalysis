{
  "nbformat": 4,
  "nbformat_minor": 0,
  "metadata": {
    "colab": {
      "name": "maskDetectionv2.ipynb",
      "provenance": [],
      "collapsed_sections": []
    },
    "kernelspec": {
      "name": "python3",
      "display_name": "Python 3"
    },
    "language_info": {
      "name": "python"
    }
  },
  "cells": [
    {
      "cell_type": "code",
      "metadata": {
        "colab": {
          "base_uri": "https://localhost:8080/"
        },
        "id": "AVQGuXKM8ZZ2",
        "outputId": "bf9939fc-6926-4c9a-a4db-abe9604ff6df"
      },
      "source": [
        "%tensorflow_version 1.x\n",
        "import tensorflow\n",
        "print(tensorflow.__version__)\n",
        "\n"
      ],
      "execution_count": 5,
      "outputs": [
        {
          "output_type": "stream",
          "name": "stdout",
          "text": [
            "1.15.2\n"
          ]
        }
      ]
    },
    {
      "cell_type": "code",
      "metadata": {
        "id": "o2A01zyY90YX",
        "colab": {
          "base_uri": "https://localhost:8080/"
        },
        "outputId": "fe6fbce7-763e-4f19-d65c-63fb721b2e91"
      },
      "source": [
        "!pip uninstall keras\n",
        "!pip install keras==2.2.5\n"
      ],
      "execution_count": 4,
      "outputs": [
        {
          "output_type": "stream",
          "name": "stdout",
          "text": [
            "Found existing installation: Keras 2.3.1\n",
            "Uninstalling Keras-2.3.1:\n",
            "  Would remove:\n",
            "    /tensorflow-1.15.2/python3.7/Keras-2.3.1.dist-info/*\n",
            "    /tensorflow-1.15.2/python3.7/docs/*\n",
            "    /tensorflow-1.15.2/python3.7/keras/*\n",
            "Proceed (y/n)? y\n",
            "  Successfully uninstalled Keras-2.3.1\n",
            "Requirement already satisfied: keras==2.2.5 in /usr/local/lib/python3.7/dist-packages (2.2.5)\n",
            "Requirement already satisfied: six>=1.9.0 in /usr/local/lib/python3.7/dist-packages (from keras==2.2.5) (1.15.0)\n",
            "Requirement already satisfied: pyyaml in /usr/local/lib/python3.7/dist-packages (from keras==2.2.5) (3.13)\n",
            "Requirement already satisfied: keras-applications>=1.0.8 in /tensorflow-1.15.2/python3.7 (from keras==2.2.5) (1.0.8)\n",
            "Requirement already satisfied: scipy>=0.14 in /usr/local/lib/python3.7/dist-packages (from keras==2.2.5) (1.4.1)\n",
            "Requirement already satisfied: h5py in /usr/local/lib/python3.7/dist-packages (from keras==2.2.5) (3.1.0)\n",
            "Requirement already satisfied: keras-preprocessing>=1.1.0 in /usr/local/lib/python3.7/dist-packages (from keras==2.2.5) (1.1.2)\n",
            "Requirement already satisfied: numpy>=1.9.1 in /usr/local/lib/python3.7/dist-packages (from keras==2.2.5) (1.19.5)\n",
            "Requirement already satisfied: cached-property in /usr/local/lib/python3.7/dist-packages (from h5py->keras==2.2.5) (1.5.2)\n"
          ]
        }
      ]
    },
    {
      "cell_type": "code",
      "metadata": {
        "id": "fwkLVSoG3wfM",
        "colab": {
          "base_uri": "https://localhost:8080/"
        },
        "outputId": "c3ad0093-d332-4298-d991-375fcd2360a3"
      },
      "source": [
        "import tensorflow\n",
        "import warnings\n",
        "warnings.filterwarnings('ignore')\n",
        "import cv2\n",
        "import numpy as np\n",
        "import os\n",
        "import matplotlib.pyplot as plt\n",
        "from sklearn.model_selection import train_test_split\n",
        "from keras.preprocessing.image import ImageDataGenerator\n",
        "from keras.utils.np_utils import to_categorical\n",
        "from keras.models import Sequential\n",
        "from keras.layers import Conv2D, Dense, MaxPooling2D, Activation, Dropout, Flatten\n",
        "from keras.optimizers import Adam\n",
        "########################################\n",
        "\n"
      ],
      "execution_count": 6,
      "outputs": [
        {
          "output_type": "stream",
          "name": "stderr",
          "text": [
            "Using TensorFlow backend.\n"
          ]
        }
      ]
    },
    {
      "cell_type": "code",
      "metadata": {
        "id": "A-qxn1W64Zdl"
      },
      "source": [
        ""
      ],
      "execution_count": null,
      "outputs": []
    },
    {
      "cell_type": "code",
      "metadata": {
        "id": "bqQHsZWn4jIs"
      },
      "source": [
        "!unzip ./images.zip"
      ],
      "execution_count": null,
      "outputs": []
    },
    {
      "cell_type": "code",
      "metadata": {
        "colab": {
          "base_uri": "https://localhost:8080/"
        },
        "id": "th6Vrcrk4Bb2",
        "outputId": "51cdc3a5-925b-4471-fabe-ca2c771b18b0"
      },
      "source": [
        "path='images'\n",
        "images=[]\n",
        "classNo=[]\n",
        "testRatio=0.2\n",
        "valRatio=0.2\n",
        "imgDimension=(32,32,3)\n",
        "\n",
        "#########################################\n",
        "\n",
        "myList=os.listdir(path)\n",
        "\n",
        "numOfClasses=len(myList)\n",
        "\n",
        "# print(numOfClasses)\n",
        "\n",
        "print(\"Importing Classes..........\")\n",
        "#Le immagini vengono ridimensionate e poi caricate all'interno della variabile curImg\n",
        "for x in range(0, numOfClasses):\n",
        "\tmyPicList=os.listdir(path+\"/\"+str(x))\n",
        "\t# myData/0/img.jpg\n",
        "\tfor y in myPicList:\n",
        "\t\tcurImg=cv2.imread(path+\"/\"+str(x)+\"/\"+y)\n",
        "\t\tcurImg=cv2.resize(curImg,(imgDimension[0],imgDimension[1]))\n",
        "\t\timages.append(curImg)\n",
        "\t\tclassNo.append(x)\n",
        "\tprint(x)\n",
        "#immagini convertite in un array numpy\n",
        "images=np.array(images)\n",
        "classNo=np.array(classNo)\n",
        "print(len(images))\n",
        "print(len(classNo))\n",
        "\n",
        "#images contiene tutte le immagini\n",
        "#classNo tiene traccia delle immagini all'interno di ciascuna immagine\n",
        "\n",
        "\n"
      ],
      "execution_count": 7,
      "outputs": [
        {
          "output_type": "stream",
          "name": "stdout",
          "text": [
            "Importing Classes..........\n",
            "0\n",
            "1\n",
            "1002\n",
            "1002\n"
          ]
        }
      ]
    },
    {
      "cell_type": "code",
      "metadata": {
        "id": "jL8VxJ_k4-dn",
        "colab": {
          "base_uri": "https://localhost:8080/",
          "height": 1000
        },
        "outputId": "2b63774d-6348-49bd-e1a4-69e266e79b40"
      },
      "source": [
        "#########Spliting The Data###########\n",
        "\n",
        "x_train, x_test, y_train, y_test=train_test_split(images, classNo, test_size=testRatio)\n",
        "x_train, x_validation, y_train, y_validation=train_test_split(x_train, y_train, test_size=valRatio)\n",
        "\n",
        "## print(x_train.shape)\n",
        "\n",
        "numOfSample=[]\n",
        "\n",
        "for x in range(0,numOfClasses):\n",
        "\tnumOfSample.append(len(np.where(y_train==x)[0]))\n",
        "\n",
        "print(len(numOfSample))\n",
        "plt.figure(figsize=(10,5))\n",
        "plt.bar(range(0, numOfClasses),numOfSample)\n",
        "plt.title(\"Bar Plot of Classes & Images\")\n",
        "plt.xlabel(\"No Of Classes\")\n",
        "plt.ylabel(\"No of Images\")\n",
        "plt.show()\n",
        "\n",
        "\n",
        "def preprocessing(img):\n",
        "\t# img=np.astype(\"uint8\")\n",
        "\timg=cv2.cvtColor(img, cv2.COLOR_BGR2GRAY)\n",
        "\timg=cv2.equalizeHist(img)\n",
        "\timg=img/255\n",
        "\treturn img\n",
        "\n",
        "\n",
        "x_train=np.array(list(map(preprocessing, x_train))) #Effettua il \"preprocessing\" di ogni immagine all'interno di x_train\n",
        "x_test=np.array(list(map(preprocessing, x_test))) #Effettua il \"preprocessing\" di ogni immagine all'interno di x_test\n",
        "x_validation=np.array(list(map(preprocessing, x_validation))) #Effettua il \"preprocessing\" di ogni immagine all'interno di x_validation\n",
        "\n",
        "\n",
        "\n",
        "print(x_train.shape[0])\n",
        "print(x_train.shape[1])\n",
        "print(x_train.shape[2])\n",
        "\n",
        "\n",
        "\n",
        "x_train=x_train.reshape(x_train.shape[0], x_train.shape[1], x_train.shape[2],1)\n",
        "x_test=x_test.reshape(x_test.shape[0], x_test.shape[1], x_test.shape[2],1)\n",
        "x_validation=x_validation.reshape(x_validation.shape[0], x_validation.shape[1], x_validation.shape[2],1)\n",
        "\n",
        "\n",
        "dataGen=ImageDataGenerator(\n",
        "\twidth_shift_range=0.1,\n",
        "\theight_shift_range=0.1,\n",
        "\tzoom_range=0.2,\n",
        "\tshear_range=0.1,\n",
        "\trotation_range=10)\n",
        "\n",
        "dataGen.fit(x_train)\n",
        "\n",
        "y_train=to_categorical(y_train, numOfClasses)\n",
        "y_test=to_categorical(y_test, numOfClasses)\n",
        "y_validation=to_categorical(y_validation, numOfClasses)\n",
        "\n",
        "def myModel():\n",
        "\tsizeOfFilter1=(3,3)\n",
        "\tsizeOfFilter2=(3,3)\n",
        "\tsizeOfPool=(2,2)\n",
        "\n",
        "\tmodel=Sequential()\n",
        "\tmodel.add((Conv2D(32, sizeOfFilter1, input_shape=(imgDimension[0],imgDimension[1],1),activation='relu')))\n",
        "\tmodel.add((Conv2D(32, sizeOfFilter1,activation='relu')))\n",
        "\tmodel.add(MaxPooling2D(pool_size=sizeOfPool))\n",
        "\n",
        "\tmodel.add((Conv2D(64, sizeOfFilter2,activation='relu')))\n",
        "\tmodel.add((Conv2D(64, sizeOfFilter2,activation='relu')))\n",
        "\tmodel.add(MaxPooling2D(pool_size=sizeOfPool))\n",
        "\tmodel.add(Dropout(0.5))\n",
        "\n",
        "\n",
        "\tmodel.add(Flatten())\n",
        "\tmodel.add(Dense(64, activation='relu'))\n",
        "\tmodel.add(Dropout(0.5))\n",
        "\tmodel.add(Dense(numOfClasses, activation='softmax'))\n",
        "\tmodel.compile(Adam(lr=0.001),loss='categorical_crossentropy',metrics=['accuracy'])\n",
        "\treturn model\n",
        "\n",
        "model=myModel()\n",
        "print(model.summary())\n",
        "s = len(x_train)//50\n",
        "\n",
        "history=model.fit_generator(dataGen.flow(x_train, y_train,batch_size=50),\n",
        "\tsteps_per_epoch= s,\n",
        "\tepochs=50,\n",
        "\tvalidation_data=(x_validation,y_validation),\n",
        "\tshuffle=1)\n",
        "\n",
        "model.save(\"MyTrainingModel.h5\")"
      ],
      "execution_count": 8,
      "outputs": [
        {
          "output_type": "stream",
          "name": "stdout",
          "text": [
            "2\n"
          ]
        },
        {
          "output_type": "display_data",
          "data": {
            "image/png": "[encoded data removed]",
            "text/plain": [
              "<Figure size 720x360 with 1 Axes>"
            ]
          },
          "metadata": {
            "needs_background": "light"
          }
        },
        {
          "output_type": "stream",
          "name": "stdout",
          "text": [
            "640\n",
            "32\n",
            "32\n",
            "WARNING:tensorflow:From /usr/local/lib/python3.7/dist-packages/keras/backend/tensorflow_backend.py:66: The name tf.get_default_graph is deprecated. Please use tf.compat.v1.get_default_graph instead.\n",
            "\n",
            "WARNING:tensorflow:From /usr/local/lib/python3.7/dist-packages/keras/backend/tensorflow_backend.py:541: The name tf.placeholder is deprecated. Please use tf.compat.v1.placeholder instead.\n",
            "\n",
            "WARNING:tensorflow:From /usr/local/lib/python3.7/dist-packages/keras/backend/tensorflow_backend.py:4432: The name tf.random_uniform is deprecated. Please use tf.random.uniform instead.\n",
            "\n",
            "WARNING:tensorflow:From /usr/local/lib/python3.7/dist-packages/keras/backend/tensorflow_backend.py:4267: The name tf.nn.max_pool is deprecated. Please use tf.nn.max_pool2d instead.\n",
            "\n",
            "WARNING:tensorflow:From /usr/local/lib/python3.7/dist-packages/keras/backend/tensorflow_backend.py:148: The name tf.placeholder_with_default is deprecated. Please use tf.compat.v1.placeholder_with_default instead.\n",
            "\n",
            "WARNING:tensorflow:From /usr/local/lib/python3.7/dist-packages/keras/backend/tensorflow_backend.py:3733: calling dropout (from tensorflow.python.ops.nn_ops) with keep_prob is deprecated and will be removed in a future version.\n",
            "Instructions for updating:\n",
            "Please use `rate` instead of `keep_prob`. Rate should be set to `rate = 1 - keep_prob`.\n",
            "WARNING:tensorflow:From /usr/local/lib/python3.7/dist-packages/keras/optimizers.py:793: The name tf.train.Optimizer is deprecated. Please use tf.compat.v1.train.Optimizer instead.\n",
            "\n",
            "WARNING:tensorflow:From /usr/local/lib/python3.7/dist-packages/keras/backend/tensorflow_backend.py:3576: The name tf.log is deprecated. Please use tf.math.log instead.\n",
            "\n",
            "Model: \"sequential_1\"\n",
            "_________________________________________________________________\n",
            "Layer (type)                 Output Shape              Param #   \n",
            "=================================================================\n",
            "conv2d_1 (Conv2D)            (None, 30, 30, 32)        320       \n",
            "_________________________________________________________________\n",
            "conv2d_2 (Conv2D)            (None, 28, 28, 32)        9248      \n",
            "_________________________________________________________________\n",
            "max_pooling2d_1 (MaxPooling2 (None, 14, 14, 32)        0         \n",
            "_________________________________________________________________\n",
            "conv2d_3 (Conv2D)            (None, 12, 12, 64)        18496     \n",
            "_________________________________________________________________\n",
            "conv2d_4 (Conv2D)            (None, 10, 10, 64)        36928     \n",
            "_________________________________________________________________\n",
            "max_pooling2d_2 (MaxPooling2 (None, 5, 5, 64)          0         \n",
            "_________________________________________________________________\n",
            "dropout_1 (Dropout)          (None, 5, 5, 64)          0         \n",
            "_________________________________________________________________\n",
            "flatten_1 (Flatten)          (None, 1600)              0         \n",
            "_________________________________________________________________\n",
            "dense_1 (Dense)              (None, 64)                102464    \n",
            "_________________________________________________________________\n",
            "dropout_2 (Dropout)          (None, 64)                0         \n",
            "_________________________________________________________________\n",
            "dense_2 (Dense)              (None, 2)                 130       \n",
            "=================================================================\n",
            "Total params: 167,586\n",
            "Trainable params: 167,586\n",
            "Non-trainable params: 0\n",
            "_________________________________________________________________\n",
            "None\n",
            "WARNING:tensorflow:From /tensorflow-1.15.2/python3.7/tensorflow_core/python/ops/math_grad.py:1424: where (from tensorflow.python.ops.array_ops) is deprecated and will be removed in a future version.\n",
            "Instructions for updating:\n",
            "Use tf.where in 2.0, which has the same broadcast rule as np.where\n",
            "WARNING:tensorflow:From /usr/local/lib/python3.7/dist-packages/keras/backend/tensorflow_backend.py:1033: The name tf.assign_add is deprecated. Please use tf.compat.v1.assign_add instead.\n",
            "\n",
            "WARNING:tensorflow:From /usr/local/lib/python3.7/dist-packages/keras/backend/tensorflow_backend.py:1020: The name tf.assign is deprecated. Please use tf.compat.v1.assign instead.\n",
            "\n",
            "WARNING:tensorflow:From /usr/local/lib/python3.7/dist-packages/keras/backend/tensorflow_backend.py:3005: The name tf.Session is deprecated. Please use tf.compat.v1.Session instead.\n",
            "\n",
            "Epoch 1/50\n",
            "WARNING:tensorflow:From /usr/local/lib/python3.7/dist-packages/keras/backend/tensorflow_backend.py:190: The name tf.get_default_session is deprecated. Please use tf.compat.v1.get_default_session instead.\n",
            "\n",
            "WARNING:tensorflow:From /usr/local/lib/python3.7/dist-packages/keras/backend/tensorflow_backend.py:197: The name tf.ConfigProto is deprecated. Please use tf.compat.v1.ConfigProto instead.\n",
            "\n",
            "WARNING:tensorflow:From /usr/local/lib/python3.7/dist-packages/keras/backend/tensorflow_backend.py:207: The name tf.global_variables is deprecated. Please use tf.compat.v1.global_variables instead.\n",
            "\n",
            "WARNING:tensorflow:From /usr/local/lib/python3.7/dist-packages/keras/backend/tensorflow_backend.py:216: The name tf.is_variable_initialized is deprecated. Please use tf.compat.v1.is_variable_initialized instead.\n",
            "\n",
            "WARNING:tensorflow:From /usr/local/lib/python3.7/dist-packages/keras/backend/tensorflow_backend.py:223: The name tf.variables_initializer is deprecated. Please use tf.compat.v1.variables_initializer instead.\n",
            "\n",
            "12/12 [==============================] - 3s 246ms/step - loss: 0.6747 - acc: 0.5480 - val_loss: 0.6087 - val_acc: 0.8012\n",
            "Epoch 2/50\n",
            "12/12 [==============================] - 2s 168ms/step - loss: 0.5734 - acc: 0.7071 - val_loss: 0.2802 - val_acc: 1.0000\n",
            "Epoch 3/50\n",
            "12/12 [==============================] - 2s 166ms/step - loss: 0.3064 - acc: 0.8670 - val_loss: 0.0355 - val_acc: 1.0000\n",
            "Epoch 4/50\n",
            "12/12 [==============================] - 2s 170ms/step - loss: 0.1158 - acc: 0.9616 - val_loss: 0.0216 - val_acc: 1.0000\n",
            "Epoch 5/50\n",
            "12/12 [==============================] - 2s 167ms/step - loss: 0.0332 - acc: 0.9913 - val_loss: 5.0723e-04 - val_acc: 1.0000\n",
            "Epoch 6/50\n",
            "12/12 [==============================] - 2s 168ms/step - loss: 0.0133 - acc: 0.9983 - val_loss: 3.0738e-05 - val_acc: 1.0000\n",
            "Epoch 7/50\n",
            "12/12 [==============================] - 2s 168ms/step - loss: 0.0151 - acc: 0.9967 - val_loss: 2.9657e-05 - val_acc: 1.0000\n",
            "Epoch 8/50\n",
            "12/12 [==============================] - 2s 170ms/step - loss: 0.0033 - acc: 1.0000 - val_loss: 6.7289e-06 - val_acc: 1.0000\n",
            "Epoch 9/50\n",
            "12/12 [==============================] - 2s 166ms/step - loss: 0.0031 - acc: 0.9983 - val_loss: 4.8868e-07 - val_acc: 1.0000\n",
            "Epoch 10/50\n",
            "12/12 [==============================] - 2s 167ms/step - loss: 0.0018 - acc: 1.0000 - val_loss: 8.0967e-07 - val_acc: 1.0000\n",
            "Epoch 11/50\n",
            "12/12 [==============================] - 2s 167ms/step - loss: 0.0089 - acc: 0.9967 - val_loss: 2.4720e-06 - val_acc: 1.0000\n",
            "Epoch 12/50\n",
            "12/12 [==============================] - 2s 166ms/step - loss: 0.0029 - acc: 1.0000 - val_loss: 1.2839e-06 - val_acc: 1.0000\n",
            "Epoch 13/50\n",
            "12/12 [==============================] - 2s 162ms/step - loss: 0.0018 - acc: 1.0000 - val_loss: 5.7680e-07 - val_acc: 1.0000\n",
            "Epoch 14/50\n",
            "12/12 [==============================] - 2s 161ms/step - loss: 9.0954e-04 - acc: 1.0000 - val_loss: 2.0214e-07 - val_acc: 1.0000\n",
            "Epoch 15/50\n",
            "12/12 [==============================] - 2s 166ms/step - loss: 0.0199 - acc: 0.9967 - val_loss: 6.5010e-07 - val_acc: 1.0000\n",
            "Epoch 16/50\n",
            "12/12 [==============================] - 2s 167ms/step - loss: 0.0045 - acc: 1.0000 - val_loss: 6.7265e-06 - val_acc: 1.0000\n",
            "Epoch 17/50\n",
            "12/12 [==============================] - 2s 169ms/step - loss: 0.0012 - acc: 1.0000 - val_loss: 7.9116e-07 - val_acc: 1.0000\n",
            "Epoch 18/50\n",
            "12/12 [==============================] - 2s 164ms/step - loss: 0.0010 - acc: 1.0000 - val_loss: 1.5956e-07 - val_acc: 1.0000\n",
            "Epoch 19/50\n",
            "12/12 [==============================] - 2s 171ms/step - loss: 0.0033 - acc: 0.9983 - val_loss: 1.6178e-07 - val_acc: 1.0000\n",
            "Epoch 20/50\n",
            "12/12 [==============================] - 2s 165ms/step - loss: 0.0241 - acc: 0.9979 - val_loss: 8.2281e-06 - val_acc: 1.0000\n",
            "Epoch 21/50\n",
            "12/12 [==============================] - 2s 167ms/step - loss: 0.0039 - acc: 0.9983 - val_loss: 7.3189e-06 - val_acc: 1.0000\n",
            "Epoch 22/50\n",
            "12/12 [==============================] - 2s 167ms/step - loss: 0.0016 - acc: 1.0000 - val_loss: 4.1131e-07 - val_acc: 1.0000\n",
            "Epoch 23/50\n",
            "12/12 [==============================] - 2s 164ms/step - loss: 2.3634e-04 - acc: 1.0000 - val_loss: 2.0621e-07 - val_acc: 1.0000\n",
            "Epoch 24/50\n",
            "12/12 [==============================] - 2s 162ms/step - loss: 0.0084 - acc: 0.9967 - val_loss: 1.5882e-07 - val_acc: 1.0000\n",
            "Epoch 25/50\n",
            "12/12 [==============================] - 2s 166ms/step - loss: 0.0056 - acc: 0.9983 - val_loss: 1.3328e-07 - val_acc: 1.0000\n",
            "Epoch 26/50\n",
            "12/12 [==============================] - 2s 164ms/step - loss: 0.0040 - acc: 0.9983 - val_loss: 1.4586e-07 - val_acc: 1.0000\n",
            "Epoch 27/50\n",
            "12/12 [==============================] - 2s 157ms/step - loss: 3.3436e-04 - acc: 1.0000 - val_loss: 2.8729e-07 - val_acc: 1.0000\n",
            "Epoch 28/50\n",
            "12/12 [==============================] - 2s 167ms/step - loss: 0.0025 - acc: 1.0000 - val_loss: 1.2069e-07 - val_acc: 1.0000\n",
            "Epoch 29/50\n",
            "12/12 [==============================] - 2s 169ms/step - loss: 0.0035 - acc: 0.9983 - val_loss: 1.2624e-07 - val_acc: 1.0000\n",
            "Epoch 30/50\n",
            "12/12 [==============================] - 2s 168ms/step - loss: 7.3766e-04 - acc: 1.0000 - val_loss: 2.4730e-07 - val_acc: 1.0000\n",
            "Epoch 31/50\n",
            "12/12 [==============================] - 2s 168ms/step - loss: 0.0017 - acc: 1.0000 - val_loss: 1.1921e-07 - val_acc: 1.0000\n",
            "Epoch 32/50\n",
            "12/12 [==============================] - 2s 164ms/step - loss: 3.0243e-04 - acc: 1.0000 - val_loss: 1.1995e-07 - val_acc: 1.0000\n",
            "Epoch 33/50\n",
            "12/12 [==============================] - 2s 168ms/step - loss: 3.3521e-04 - acc: 1.0000 - val_loss: 1.1921e-07 - val_acc: 1.0000\n",
            "Epoch 34/50\n",
            "12/12 [==============================] - 2s 168ms/step - loss: 2.0174e-04 - acc: 1.0000 - val_loss: 1.1921e-07 - val_acc: 1.0000\n",
            "Epoch 35/50\n",
            "12/12 [==============================] - 2s 167ms/step - loss: 4.6836e-04 - acc: 1.0000 - val_loss: 1.2291e-07 - val_acc: 1.0000\n",
            "Epoch 36/50\n",
            "12/12 [==============================] - 2s 169ms/step - loss: 1.7836e-04 - acc: 1.0000 - val_loss: 1.2513e-07 - val_acc: 1.0000\n",
            "Epoch 37/50\n",
            "12/12 [==============================] - 2s 168ms/step - loss: 1.1320e-04 - acc: 1.0000 - val_loss: 1.1995e-07 - val_acc: 1.0000\n",
            "Epoch 38/50\n",
            "12/12 [==============================] - 2s 167ms/step - loss: 3.3729e-04 - acc: 1.0000 - val_loss: 1.1921e-07 - val_acc: 1.0000\n",
            "Epoch 39/50\n",
            "12/12 [==============================] - 2s 166ms/step - loss: 2.8933e-04 - acc: 1.0000 - val_loss: 1.1921e-07 - val_acc: 1.0000\n",
            "Epoch 40/50\n",
            "12/12 [==============================] - 2s 160ms/step - loss: 2.2131e-04 - acc: 1.0000 - val_loss: 1.1921e-07 - val_acc: 1.0000\n",
            "Epoch 41/50\n",
            "12/12 [==============================] - 2s 168ms/step - loss: 3.4349e-04 - acc: 1.0000 - val_loss: 1.1921e-07 - val_acc: 1.0000\n",
            "Epoch 42/50\n",
            "12/12 [==============================] - 2s 167ms/step - loss: 7.5289e-04 - acc: 1.0000 - val_loss: 1.1921e-07 - val_acc: 1.0000\n",
            "Epoch 43/50\n",
            "12/12 [==============================] - 2s 168ms/step - loss: 3.0691e-05 - acc: 1.0000 - val_loss: 1.1921e-07 - val_acc: 1.0000\n",
            "Epoch 44/50\n",
            "12/12 [==============================] - 2s 166ms/step - loss: 6.2412e-05 - acc: 1.0000 - val_loss: 1.1921e-07 - val_acc: 1.0000\n",
            "Epoch 45/50\n",
            "12/12 [==============================] - 2s 169ms/step - loss: 1.1896e-05 - acc: 1.0000 - val_loss: 1.1921e-07 - val_acc: 1.0000\n",
            "Epoch 46/50\n",
            "12/12 [==============================] - 2s 169ms/step - loss: 0.0176 - acc: 0.9900 - val_loss: 1.8363e-07 - val_acc: 1.0000\n",
            "Epoch 47/50\n",
            "12/12 [==============================] - 2s 170ms/step - loss: 0.0266 - acc: 0.9933 - val_loss: 6.9772e-06 - val_acc: 1.0000\n",
            "Epoch 48/50\n",
            "12/12 [==============================] - 2s 167ms/step - loss: 0.0054 - acc: 0.9983 - val_loss: 1.2217e-07 - val_acc: 1.0000\n",
            "Epoch 49/50\n",
            "12/12 [==============================] - 2s 166ms/step - loss: 0.0092 - acc: 0.9946 - val_loss: 1.8659e-07 - val_acc: 1.0000\n",
            "Epoch 50/50\n",
            "12/12 [==============================] - 2s 168ms/step - loss: 0.0057 - acc: 0.9967 - val_loss: 1.5031e-07 - val_acc: 1.0000\n"
          ]
        }
      ]
    },
    {
      "cell_type": "code",
      "metadata": {
        "id": "lNEc15vP8WgX"
      },
      "source": [
        ""
      ],
      "execution_count": null,
      "outputs": []
    }
  ]
}